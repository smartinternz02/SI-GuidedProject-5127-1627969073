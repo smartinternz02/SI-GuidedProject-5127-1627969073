{
 "cells": [
  {
   "cell_type": "markdown",
   "source": [
    "## Exercises\r\n",
    "\r\n",
    "Answer the questions or complete the tasks outlined in bold below, use the specific method described if applicable.\r\n",
    "\r\n",
    "Submitted by, \r\n",
    "    Shihab bin Humayoon, 1822017, Manipal Dubai"
   ],
   "metadata": {
    "id": "fwU2iooz85jt"
   }
  },
  {
   "cell_type": "markdown",
   "source": [
    "** What is 7 to the power of 4?**"
   ],
   "metadata": {
    "id": "SzBQQ_ml85j1"
   }
  },
  {
   "cell_type": "code",
   "execution_count": 36,
   "source": [
    "pow(7,4)"
   ],
   "outputs": [
    {
     "output_type": "execute_result",
     "data": {
      "text/plain": [
       "2401"
      ]
     },
     "metadata": {},
     "execution_count": 36
    }
   ],
   "metadata": {
    "id": "UhvE4PBC85j3",
    "outputId": "a05565aa-db43-4716-e87d-41c5c8a6f95e"
   }
  },
  {
   "cell_type": "markdown",
   "source": [
    "** Split this string:**\n",
    "\n",
    "    s = \"Hi there Sam!\"\n",
    "    \n",
    "**into a list. **"
   ],
   "metadata": {
    "id": "ds8G9S8j85j6"
   }
  },
  {
   "cell_type": "code",
   "execution_count": 18,
   "source": [
    "s = \"Hi there Sam!\"\r\n",
    "print(s.split())\r\n"
   ],
   "outputs": [
    {
     "output_type": "stream",
     "name": "stdout",
     "text": [
      "['Hi', 'there', 'Sam!']\n"
     ]
    }
   ],
   "metadata": {
    "collapsed": true,
    "id": "GD_Tls3H85j7"
   }
  },
  {
   "cell_type": "code",
   "execution_count": 19,
   "source": [
    "s = \"Hi there dad!\"\r\n",
    "print(s.split())"
   ],
   "outputs": [
    {
     "output_type": "stream",
     "name": "stdout",
     "text": [
      "['Hi', 'there', 'dad!']\n"
     ]
    }
   ],
   "metadata": {
    "id": "RRGOKoai85j8",
    "outputId": "cc52f0d8-2ed1-4b4d-e956-5bbeb332cdc2"
   }
  },
  {
   "cell_type": "markdown",
   "source": [
    "Given the variables:\r\n",
    "\r\n",
    "planet = \"Earth\"\r\n",
    "diameter = 12742\r\n",
    "\r\n",
    "Use .format() to print the following string: \r\n",
    "The diameter of Earth is 12742 kilometers."
   ],
   "metadata": {
    "id": "_bBNOu-785j9"
   }
  },
  {
   "cell_type": "code",
   "execution_count": 20,
   "source": [
    "planet = \"Earth\"\r\n",
    "diameter = 12742\r\n",
    "print(\"The diameter of {} is {} kilometers\".format(planet, diameter))"
   ],
   "outputs": [
    {
     "output_type": "stream",
     "name": "stdout",
     "text": [
      "The diameter of Earth is 12742 kilometers\n"
     ]
    }
   ],
   "metadata": {
    "id": "s_dQ7_xc85j_",
    "outputId": "4235fdfb-5591-4dd9-f9d2-77f311977633"
   }
  },
  {
   "cell_type": "markdown",
   "source": [
    "** Given this nested list, use indexing to grab the word \"hello\" **"
   ],
   "metadata": {
    "id": "QAKtN7Hh85kB"
   }
  },
  {
   "cell_type": "code",
   "execution_count": 21,
   "source": [
    "lst = [1,2,[3,4],[5,[100,200,['hello']],23,11],1,7]\r\n",
    "print(lst[3][1][2])"
   ],
   "outputs": [
    {
     "output_type": "stream",
     "name": "stdout",
     "text": [
      "['hello']\n"
     ]
    }
   ],
   "metadata": {
    "collapsed": true,
    "id": "-7dzQDyK85kD"
   }
  },
  {
   "cell_type": "markdown",
   "source": [
    "** Given this nest dictionary grab the word \"hello\". Be prepared, this will be annoying/tricky **"
   ],
   "metadata": {
    "id": "9Ma7M4a185kF"
   }
  },
  {
   "cell_type": "code",
   "execution_count": 22,
   "source": [
    "d = {'k1':[1,2,3,{'tricky':['oh','man','inception',{'target':[1,2,3,'hello']}]}]}\r\n",
    "print(d['k1'][3]['tricky'][3]['target'][3])"
   ],
   "outputs": [
    {
     "output_type": "stream",
     "name": "stdout",
     "text": [
      "hello\n"
     ]
    }
   ],
   "metadata": {
    "id": "vrYAxSYN85kG"
   }
  },
  {
   "cell_type": "markdown",
   "source": [
    "** What is the main difference between a tuple and a list? **"
   ],
   "metadata": {
    "id": "FInV_FKB85kI"
   }
  },
  {
   "cell_type": "markdown",
   "source": [
    "A tuple is immutable meaning you cannot change its contents whereas a list can have its elements changed"
   ],
   "metadata": {
    "collapsed": true,
    "id": "_VBWf00q85kJ"
   }
  },
  {
   "cell_type": "markdown",
   "source": [
    "** Create a function that grabs the email website domain from a string in the form: **\n",
    "\n",
    "    user@domain.com\n",
    "    \n",
    "**So for example, passing \"user@domain.com\" would return: domain.com**"
   ],
   "metadata": {
    "id": "zP-j0HZj85kK"
   }
  },
  {
   "cell_type": "code",
   "execution_count": 23,
   "source": [
    "def domainname(str):\r\n",
    "    lst = str.split(sep='@')\r\n",
    "    print(lst[1])\r\n",
    "\r\n",
    "domainname(\"user@domain.com\")"
   ],
   "outputs": [
    {
     "output_type": "stream",
     "name": "stdout",
     "text": [
      "domain.com\n"
     ]
    }
   ],
   "metadata": {
    "collapsed": true,
    "id": "unvEAwjk85kL"
   }
  },
  {
   "cell_type": "markdown",
   "source": [
    "** Create a basic function that returns True if the word 'dog' is contained in the input string. Don't worry about edge cases like a punctuation being attached to the word dog, but do account for capitalization. **"
   ],
   "metadata": {
    "id": "gYydb-y085kM"
   }
  },
  {
   "cell_type": "code",
   "execution_count": 24,
   "source": [
    "def isthereadog(str='placeholder text lmao'):\r\n",
    "    str = str.lower()\r\n",
    "    x = str.find('dog')\r\n",
    "    if (x == -1):\r\n",
    "        print('false')\r\n",
    "    else:\r\n",
    "        print('True')\r\n",
    "\r\n",
    "isthereadog(\"IS there a Dog here?\")"
   ],
   "outputs": [
    {
     "output_type": "stream",
     "name": "stdout",
     "text": [
      "True\n"
     ]
    }
   ],
   "metadata": {
    "id": "EqH6b7yv85kN",
    "outputId": "e7909af1-8df1-4534-fc8c-27b03d7369e5"
   }
  },
  {
   "cell_type": "markdown",
   "source": [
    "** Create a function that counts the number of times the word \"dog\" occurs in a string. Again ignore edge cases. **"
   ],
   "metadata": {
    "id": "AyHQFALC85kO"
   }
  },
  {
   "cell_type": "code",
   "execution_count": 25,
   "source": [
    "def dogcounter(str='d'):\r\n",
    "    str = str.lower()\r\n",
    "    print(\"The word dog has been found this many times: \",str.count('dog'))\r\n",
    "\r\n",
    "dogcounter('God I love dogs, they are just so cute. I want a cute dog like a great dane')\r\n",
    "    "
   ],
   "outputs": [
    {
     "output_type": "stream",
     "name": "stdout",
     "text": [
      "The word dog has been found this many times:  2\n"
     ]
    }
   ],
   "metadata": {
    "id": "6hdc169585kO"
   }
  },
  {
   "cell_type": "markdown",
   "source": [
    "### Final Problem\n",
    "**You are driving a little too fast, and a police officer stops you. Write a function\n",
    "  to return one of 3 possible results: \"No ticket\", \"Small ticket\", or \"Big Ticket\". \n",
    "  If your speed is 60 or less, the result is \"No Ticket\". If speed is between 61 \n",
    "  and 80 inclusive, the result is \"Small Ticket\". If speed is 81 or more, the result is \"Big    Ticket\". Unless it is your birthday (encoded as a boolean value in the parameters of the function) -- on your birthday, your speed can be 5 higher in all \n",
    "  cases. **"
   ],
   "metadata": {
    "id": "3n7jJt4k85kP"
   }
  },
  {
   "cell_type": "code",
   "execution_count": 26,
   "source": [
    "def caught_speeding(speed, is_birthday):\r\n",
    "    \r\n",
    "    if is_birthday:\r\n",
    "        speeding = speed - 5\r\n",
    "    else:\r\n",
    "        speeding = speed\r\n",
    "    \r\n",
    "    if speeding >= 80:\r\n",
    "        return 'Big Ticket'\r\n",
    "    elif speeding >= 60:\r\n",
    "        return 'Small Ticket'\r\n",
    "    else:\r\n",
    "        return 'No Ticket'"
   ],
   "outputs": [],
   "metadata": {
    "collapsed": true,
    "id": "nvXMkvWk85kQ"
   }
  },
  {
   "cell_type": "code",
   "execution_count": 27,
   "source": [
    "caught_speeding(60, False)"
   ],
   "outputs": [
    {
     "output_type": "execute_result",
     "data": {
      "text/plain": [
       "'Small Ticket'"
      ]
     },
     "metadata": {},
     "execution_count": 27
    }
   ],
   "metadata": {
    "id": "p1AGJ7DM85kR",
    "outputId": "ca80629f-5949-4926-8d27-1b61576669ac"
   }
  },
  {
   "cell_type": "code",
   "execution_count": 28,
   "source": [
    "caught_speeding(80, False)"
   ],
   "outputs": [
    {
     "output_type": "execute_result",
     "data": {
      "text/plain": [
       "'Big Ticket'"
      ]
     },
     "metadata": {},
     "execution_count": 28
    }
   ],
   "metadata": {
    "id": "BU_UZcyk85kS",
    "outputId": "699de8ef-a18c-436b-fdd9-60dc44979906"
   }
  },
  {
   "cell_type": "markdown",
   "source": [
    "# Great job!"
   ],
   "metadata": {
    "id": "QL7sY6NR85kT"
   }
  }
 ],
 "metadata": {
  "colab": {
   "name": "python exercise.ipynb",
   "provenance": []
  },
  "interpreter": {
   "hash": "b0fc11a8a9ff93a27203dac3c66cbacc5f50543639672dd09c5aa0d3174667da"
  },
  "kernelspec": {
   "name": "python3",
   "display_name": "Python 3.8.8 64-bit ('base': conda)"
  },
  "language_info": {
   "codemirror_mode": {
    "name": "ipython",
    "version": 3
   },
   "file_extension": ".py",
   "mimetype": "text/x-python",
   "name": "python",
   "nbconvert_exporter": "python",
   "pygments_lexer": "ipython3",
   "version": "3.8.8"
  }
 },
 "nbformat": 4,
 "nbformat_minor": 1
}