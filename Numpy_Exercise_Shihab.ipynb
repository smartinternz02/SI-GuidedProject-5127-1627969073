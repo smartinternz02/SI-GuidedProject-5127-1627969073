{
  "nbformat": 4,
  "nbformat_minor": 2,
  "metadata": {
    "kernelspec": {
      "name": "python3",
      "display_name": "Python 3.8.8 64-bit ('base': conda)"
    },
    "language_info": {
      "codemirror_mode": {
        "name": "ipython",
        "version": 3
      },
      "file_extension": ".py",
      "mimetype": "text/x-python",
      "name": "python",
      "nbconvert_exporter": "python",
      "pygments_lexer": "ipython3",
      "version": "3.8.8"
    },
    "colab": {
      "name": "Numpy Exercise .ipynb",
      "provenance": []
    },
    "interpreter": {
      "hash": "b0fc11a8a9ff93a27203dac3c66cbacc5f50543639672dd09c5aa0d3174667da"
    }
  },
  "cells": [
    {
      "cell_type": "markdown",
      "source": [
        "# NumPy Exercises \r\n",
        "\r\n",
        "Now that we've learned about NumPy let's test your knowledge. We'll start off with a few simple tasks, and then you'll be asked some more \r\n",
        "complicated questions.\r\n",
        "\r\n",
        "Submitted by, Shihab bin Humayoon, Manipal Dubai\r\n"
      ],
      "metadata": {
        "id": "nLcvN9chMI8w"
      }
    },
    {
      "cell_type": "markdown",
      "source": [
        "#### Import NumPy as np"
      ],
      "metadata": {
        "id": "ZbsDNSIIMI8x"
      }
    },
    {
      "cell_type": "code",
      "execution_count": 1,
      "source": [
        "import numpy as np"
      ],
      "outputs": [],
      "metadata": {
        "id": "rTcaXjOEMI8y"
      }
    },
    {
      "cell_type": "markdown",
      "source": [
        "#### Create an array of 10 zeros "
      ],
      "metadata": {
        "id": "yF1OU5QlMI80"
      }
    },
    {
      "cell_type": "code",
      "execution_count": 2,
      "source": [
        "arr = np.zeros(10)\r\n",
        "arr"
      ],
      "outputs": [
        {
          "output_type": "execute_result",
          "data": {
            "text/plain": [
              "array([0., 0., 0., 0., 0., 0., 0., 0., 0., 0.])"
            ]
          },
          "metadata": {},
          "execution_count": 2
        }
      ],
      "metadata": {}
    },
    {
      "cell_type": "markdown",
      "source": [
        "#### Create an array of 10 ones"
      ],
      "metadata": {
        "id": "_fMKgLc2MI84"
      }
    },
    {
      "cell_type": "code",
      "execution_count": 3,
      "source": [
        "arr1 = np.ones(10)\r\n",
        "arr1"
      ],
      "outputs": [
        {
          "output_type": "execute_result",
          "data": {
            "text/plain": [
              "array([1., 1., 1., 1., 1., 1., 1., 1., 1., 1.])"
            ]
          },
          "metadata": {},
          "execution_count": 3
        }
      ],
      "metadata": {
        "id": "YTODXFBSMI85",
        "outputId": "d8e4fa2e-a559-4968-cb9f-a6065737ed45"
      }
    },
    {
      "cell_type": "markdown",
      "source": [
        "#### Create an array of 10 fives"
      ],
      "metadata": {
        "id": "zyotPRUxMI86"
      }
    },
    {
      "cell_type": "code",
      "execution_count": 4,
      "source": [
        "arr2 = np.full(10, 5)\r\n",
        "arr2"
      ],
      "outputs": [
        {
          "output_type": "execute_result",
          "data": {
            "text/plain": [
              "array([5, 5, 5, 5, 5, 5, 5, 5, 5, 5])"
            ]
          },
          "metadata": {},
          "execution_count": 4
        }
      ],
      "metadata": {}
    },
    {
      "cell_type": "markdown",
      "source": [
        "#### Create an array of the integers from 10 to 50"
      ],
      "metadata": {
        "id": "oe3gNXtvMI88"
      }
    },
    {
      "cell_type": "code",
      "execution_count": 5,
      "source": [
        "arr3 = np.arange(10,51)\r\n",
        "arr3"
      ],
      "outputs": [
        {
          "output_type": "execute_result",
          "data": {
            "text/plain": [
              "array([10, 11, 12, 13, 14, 15, 16, 17, 18, 19, 20, 21, 22, 23, 24, 25, 26,\n",
              "       27, 28, 29, 30, 31, 32, 33, 34, 35, 36, 37, 38, 39, 40, 41, 42, 43,\n",
              "       44, 45, 46, 47, 48, 49, 50])"
            ]
          },
          "metadata": {},
          "execution_count": 5
        }
      ],
      "metadata": {}
    },
    {
      "cell_type": "markdown",
      "source": [
        "#### Create an array of all the even integers from 10 to 50"
      ],
      "metadata": {
        "id": "muUda8r8MI89"
      }
    },
    {
      "cell_type": "code",
      "execution_count": 6,
      "source": [
        "arr4 = np.arange(10,51,2)\r\n",
        "arr4"
      ],
      "outputs": [
        {
          "output_type": "execute_result",
          "data": {
            "text/plain": [
              "array([10, 12, 14, 16, 18, 20, 22, 24, 26, 28, 30, 32, 34, 36, 38, 40, 42,\n",
              "       44, 46, 48, 50])"
            ]
          },
          "metadata": {},
          "execution_count": 6
        }
      ],
      "metadata": {
        "id": "9BjvhZMtMI8-",
        "outputId": "e0d55d20-1138-4a26-88f2-fc9d9c822b44"
      }
    },
    {
      "cell_type": "markdown",
      "source": [
        "#### Create a 3x3 matrix with values ranging from 0 to 8"
      ],
      "metadata": {
        "id": "eVqZRekLMI8-"
      }
    },
    {
      "cell_type": "code",
      "execution_count": 7,
      "source": [
        "mat1 = np.matrix(np.arange(0,9).reshape(3,3)) #done this way to match the output shown in the exercise\r\n",
        "mat1 "
      ],
      "outputs": [
        {
          "output_type": "execute_result",
          "data": {
            "text/plain": [
              "matrix([[0, 1, 2],\n",
              "        [3, 4, 5],\n",
              "        [6, 7, 8]])"
            ]
          },
          "metadata": {},
          "execution_count": 7
        }
      ],
      "metadata": {}
    },
    {
      "cell_type": "code",
      "execution_count": 8,
      "source": [
        "mat1 = np.arange(0,9).reshape(3,3)\r\n",
        "mat1"
      ],
      "outputs": [
        {
          "output_type": "execute_result",
          "data": {
            "text/plain": [
              "array([[0, 1, 2],\n",
              "       [3, 4, 5],\n",
              "       [6, 7, 8]])"
            ]
          },
          "metadata": {},
          "execution_count": 8
        }
      ],
      "metadata": {}
    },
    {
      "cell_type": "markdown",
      "source": [
        "#### Create a 3x3 identity matrix"
      ],
      "metadata": {
        "id": "6ORb3kyBMI9A"
      }
    },
    {
      "cell_type": "code",
      "execution_count": 9,
      "source": [
        "mat2 = np.eye(3,3)\r\n",
        "mat2"
      ],
      "outputs": [
        {
          "output_type": "execute_result",
          "data": {
            "text/plain": [
              "array([[1., 0., 0.],\n",
              "       [0., 1., 0.],\n",
              "       [0., 0., 1.]])"
            ]
          },
          "metadata": {},
          "execution_count": 9
        }
      ],
      "metadata": {
        "id": "lkDxcY8GMI9B",
        "outputId": "90b12b04-02b7-4685-9441-ad2d1890ec3a"
      }
    },
    {
      "cell_type": "markdown",
      "source": [
        "#### Use NumPy to generate a random number between 0 and 1"
      ],
      "metadata": {
        "id": "q2F8XuVaMI9B"
      }
    },
    {
      "cell_type": "code",
      "execution_count": 10,
      "source": [
        "b = np.random.rand(1)\r\n",
        "b"
      ],
      "outputs": [
        {
          "output_type": "execute_result",
          "data": {
            "text/plain": [
              "array([0.06557135])"
            ]
          },
          "metadata": {},
          "execution_count": 10
        }
      ],
      "metadata": {
        "id": "xAB1RnraMI9C",
        "outputId": "26507b43-c020-4ddb-f86d-85256d52ff7f"
      }
    },
    {
      "cell_type": "markdown",
      "source": [
        "#### Use NumPy to generate an array of 25 random numbers sampled from a standard normal distribution"
      ],
      "metadata": {
        "id": "RLtGHNJ2MI9C"
      }
    },
    {
      "cell_type": "code",
      "execution_count": 19,
      "source": [
        "rnorm = np.random.normal(0,1,25) \r\n",
        "rnorm"
      ],
      "outputs": [
        {
          "output_type": "execute_result",
          "data": {
            "text/plain": [
              "array([-0.59506808, -0.12401615,  0.73314414, -1.14094253,  0.70098525,\n",
              "       -0.16314412, -1.55648881,  0.33601434,  0.96477332,  0.47256033,\n",
              "       -1.61397313,  0.00800146,  0.20224174, -0.49976046,  0.32960628,\n",
              "        0.31410127,  0.64150888, -0.52456509, -0.93270139,  0.52636764,\n",
              "        0.93995991, -1.26258041,  0.71935438,  0.36782081,  0.1765143 ])"
            ]
          },
          "metadata": {},
          "execution_count": 19
        }
      ],
      "metadata": {
        "id": "VWS99FmyMI9D",
        "outputId": "6f9f00aa-c3a8-4595-bc60-7d4d8554c885"
      }
    },
    {
      "cell_type": "markdown",
      "source": [
        "#### Create the following matrix:"
      ],
      "metadata": {
        "id": "yiRrCiZMMI9E"
      }
    },
    {
      "cell_type": "code",
      "execution_count": 20,
      "source": [
        "linspaceArr = np.linspace(0.01,1,100).reshape(10,10)\r\n",
        "linspaceArr"
      ],
      "outputs": [
        {
          "output_type": "execute_result",
          "data": {
            "text/plain": [
              "array([[0.01, 0.02, 0.03, 0.04, 0.05, 0.06, 0.07, 0.08, 0.09, 0.1 ],\n",
              "       [0.11, 0.12, 0.13, 0.14, 0.15, 0.16, 0.17, 0.18, 0.19, 0.2 ],\n",
              "       [0.21, 0.22, 0.23, 0.24, 0.25, 0.26, 0.27, 0.28, 0.29, 0.3 ],\n",
              "       [0.31, 0.32, 0.33, 0.34, 0.35, 0.36, 0.37, 0.38, 0.39, 0.4 ],\n",
              "       [0.41, 0.42, 0.43, 0.44, 0.45, 0.46, 0.47, 0.48, 0.49, 0.5 ],\n",
              "       [0.51, 0.52, 0.53, 0.54, 0.55, 0.56, 0.57, 0.58, 0.59, 0.6 ],\n",
              "       [0.61, 0.62, 0.63, 0.64, 0.65, 0.66, 0.67, 0.68, 0.69, 0.7 ],\n",
              "       [0.71, 0.72, 0.73, 0.74, 0.75, 0.76, 0.77, 0.78, 0.79, 0.8 ],\n",
              "       [0.81, 0.82, 0.83, 0.84, 0.85, 0.86, 0.87, 0.88, 0.89, 0.9 ],\n",
              "       [0.91, 0.92, 0.93, 0.94, 0.95, 0.96, 0.97, 0.98, 0.99, 1.  ]])"
            ]
          },
          "metadata": {},
          "execution_count": 20
        }
      ],
      "metadata": {
        "id": "-SlQfBJUMI9E",
        "outputId": "b632023d-3cbd-490d-e820-6b2827682217"
      }
    },
    {
      "cell_type": "markdown",
      "source": [
        "#### Create an array of 20 linearly spaced points between 0 and 1:"
      ],
      "metadata": {
        "id": "rbVllPX4MI9E"
      }
    },
    {
      "cell_type": "code",
      "execution_count": 21,
      "source": [
        "np.linspace(0,1,20)"
      ],
      "outputs": [
        {
          "output_type": "execute_result",
          "data": {
            "text/plain": [
              "array([0.        , 0.05263158, 0.10526316, 0.15789474, 0.21052632,\n",
              "       0.26315789, 0.31578947, 0.36842105, 0.42105263, 0.47368421,\n",
              "       0.52631579, 0.57894737, 0.63157895, 0.68421053, 0.73684211,\n",
              "       0.78947368, 0.84210526, 0.89473684, 0.94736842, 1.        ])"
            ]
          },
          "metadata": {},
          "execution_count": 21
        }
      ],
      "metadata": {
        "id": "wzhz1tvJMI9F",
        "outputId": "4f77f4cc-aff4-40ad-9cae-0fc2f0acf07d"
      }
    },
    {
      "cell_type": "markdown",
      "source": [
        "## Numpy Indexing and Selection\n",
        "\n",
        "Now you will be given a few matrices, and be asked to replicate the resulting matrix outputs:"
      ],
      "metadata": {
        "id": "9CXJtOVUMI9F"
      }
    },
    {
      "cell_type": "code",
      "execution_count": 12,
      "source": [
        "mat = np.arange(1,26).reshape(5,5)\r\n",
        "mat"
      ],
      "outputs": [
        {
          "output_type": "execute_result",
          "data": {
            "text/plain": [
              "array([[ 1,  2,  3,  4,  5],\n",
              "       [ 6,  7,  8,  9, 10],\n",
              "       [11, 12, 13, 14, 15],\n",
              "       [16, 17, 18, 19, 20],\n",
              "       [21, 22, 23, 24, 25]])"
            ]
          },
          "metadata": {},
          "execution_count": 12
        }
      ],
      "metadata": {
        "id": "SPXzqZTtMI9F",
        "outputId": "abd3eb24-4bc0-4f22-82fc-fcb74970f48f"
      }
    },
    {
      "cell_type": "code",
      "execution_count": 22,
      "source": [
        "mat[2:,1:]\r\n"
      ],
      "outputs": [
        {
          "output_type": "execute_result",
          "data": {
            "text/plain": [
              "array([[12, 13, 14, 15],\n",
              "       [17, 18, 19, 20],\n",
              "       [22, 23, 24, 25]])"
            ]
          },
          "metadata": {},
          "execution_count": 22
        }
      ],
      "metadata": {
        "id": "9toGTaSAMI9G",
        "outputId": "8e2dfd64-a21a-4b38-af05-173384017232"
      }
    },
    {
      "cell_type": "code",
      "execution_count": 25,
      "source": [
        "mat[3][4]"
      ],
      "outputs": [
        {
          "output_type": "execute_result",
          "data": {
            "text/plain": [
              "20"
            ]
          },
          "metadata": {},
          "execution_count": 25
        }
      ],
      "metadata": {
        "id": "Ms2DauU1MI9H",
        "outputId": "58237ae9-bbb3-4fc9-bc6f-8c7b030598b1"
      }
    },
    {
      "cell_type": "code",
      "execution_count": 30,
      "source": [
        "mat[:3,1].reshape(3,1)"
      ],
      "outputs": [
        {
          "output_type": "execute_result",
          "data": {
            "text/plain": [
              "array([[ 2],\n",
              "       [ 7],\n",
              "       [12]])"
            ]
          },
          "metadata": {},
          "execution_count": 30
        }
      ],
      "metadata": {
        "id": "2NDsfvVKMI9H",
        "outputId": "4cc1ca8f-58c9-43fe-b958-3bb6b88917ef"
      }
    },
    {
      "cell_type": "code",
      "execution_count": 32,
      "source": [
        "mat[4]"
      ],
      "outputs": [
        {
          "output_type": "execute_result",
          "data": {
            "text/plain": [
              "array([21, 22, 23, 24, 25])"
            ]
          },
          "metadata": {},
          "execution_count": 32
        }
      ],
      "metadata": {
        "id": "pyUSxrc_MI9I",
        "outputId": "5661c0f4-84fb-4ab4-c8d1-b83e2a10a1d9"
      }
    },
    {
      "cell_type": "code",
      "execution_count": 35,
      "source": [
        "mat[3:5]"
      ],
      "outputs": [
        {
          "output_type": "execute_result",
          "data": {
            "text/plain": [
              "array([[16, 17, 18, 19, 20],\n",
              "       [21, 22, 23, 24, 25]])"
            ]
          },
          "metadata": {},
          "execution_count": 35
        }
      ],
      "metadata": {
        "id": "Cvx2-PJpMI9I",
        "outputId": "62eb2617-1eaa-400f-fd27-e35b8783bdaf"
      }
    },
    {
      "cell_type": "markdown",
      "source": [
        "### Now do the following"
      ],
      "metadata": {
        "id": "11DhvVgpMI9J"
      }
    },
    {
      "cell_type": "markdown",
      "source": [
        "#### Get the sum of all the values in mat"
      ],
      "metadata": {
        "id": "6bAw1GG4MI9J"
      }
    },
    {
      "cell_type": "code",
      "execution_count": 13,
      "source": [
        "mat.sum()"
      ],
      "outputs": [
        {
          "output_type": "execute_result",
          "data": {
            "text/plain": [
              "325"
            ]
          },
          "metadata": {},
          "execution_count": 13
        }
      ],
      "metadata": {
        "id": "lswQbiwlMI9J",
        "outputId": "b132ce90-e245-47ad-a1a9-73a9afca109a"
      }
    },
    {
      "cell_type": "markdown",
      "source": [
        "#### Get the standard deviation of the values in mat"
      ],
      "metadata": {
        "id": "Rj8zagsmMI9K"
      }
    },
    {
      "cell_type": "code",
      "execution_count": 14,
      "source": [
        "mat.std()"
      ],
      "outputs": [
        {
          "output_type": "execute_result",
          "data": {
            "text/plain": [
              "7.211102550927978"
            ]
          },
          "metadata": {},
          "execution_count": 14
        }
      ],
      "metadata": {
        "id": "V1SxPU_xMI9K",
        "outputId": "65094b49-8635-428b-be75-a8ed065e98ad"
      }
    },
    {
      "cell_type": "markdown",
      "source": [
        "#### Get the sum of all the columns in mat"
      ],
      "metadata": {
        "id": "Vn0C5_olMI9M"
      }
    },
    {
      "cell_type": "code",
      "execution_count": 15,
      "source": [
        "mat.sum(axis=0)"
      ],
      "outputs": [
        {
          "output_type": "execute_result",
          "data": {
            "text/plain": [
              "array([55, 60, 65, 70, 75])"
            ]
          },
          "metadata": {},
          "execution_count": 15
        }
      ],
      "metadata": {
        "id": "8q3fNqlEMI9M",
        "outputId": "f5c4a93a-9ae3-49ca-c8aa-d96b9fbaedf1"
      }
    },
    {
      "cell_type": "markdown",
      "source": [
        "# Great Job!"
      ],
      "metadata": {
        "collapsed": true,
        "id": "5kB0jJyNMI9N"
      }
    }
  ]
}